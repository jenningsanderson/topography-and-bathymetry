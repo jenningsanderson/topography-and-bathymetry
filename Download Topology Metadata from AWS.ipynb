{
 "cells": [
  {
   "cell_type": "code",
   "execution_count": 2,
   "id": "continent-internet",
   "metadata": {
    "ExecuteTime": {
     "end_time": "2023-01-25T18:34:11.274094Z",
     "start_time": "2023-01-25T18:34:10.899967Z"
    }
   },
   "outputs": [],
   "source": [
    "import boto3\n",
    "import pandas as pd\n",
    "import os\n",
    "import pandas as pd\n",
    "from bs4 import BeautifulSoup\n",
    "from botocore.exceptions import ClientError"
   ]
  },
  {
   "cell_type": "code",
   "execution_count": 3,
   "id": "western-imagination",
   "metadata": {
    "ExecuteTime": {
     "end_time": "2023-01-25T18:34:11.798954Z",
     "start_time": "2023-01-25T18:34:11.675250Z"
    }
   },
   "outputs": [],
   "source": [
    "s3 = boto3.client('s3')"
   ]
  },
  {
   "cell_type": "code",
   "execution_count": 6,
   "id": "embedded-clarity",
   "metadata": {
    "ExecuteTime": {
     "end_time": "2023-01-25T18:35:14.697410Z",
     "start_time": "2023-01-25T18:35:14.690143Z"
    }
   },
   "outputs": [
    {
     "name": "stdout",
     "output_type": "stream",
     "text": [
      "16\n"
     ]
    },
    {
     "data": {
      "text/plain": [
       "1    S01_00_W000_00\n",
       "3    N01_00_W000_00\n",
       "2    N00_00_W000_00\n",
       "7    N01_00_W001_00\n",
       "8    S00_00_E000_00\n",
       "dtype: object"
      ]
     },
     "execution_count": 6,
     "metadata": {},
     "output_type": "execute_result"
    }
   ],
   "source": [
    "files = []\n",
    "for ew in ['W','E']:\n",
    "    for lon in range(0,2):\n",
    "        for ns in ['S','N']:\n",
    "            for lat in range(0,2):\n",
    "                files.append(\n",
    "                    ns + f\"{lat}\".rjust(2,'0') + \"_00_\" + ew + f\"{lon}\".rjust(3,'0') + \"_00\"\n",
    "                )\n",
    "files = pd.Series(files).sample(frac=1)\n",
    "print(len(files))\n",
    "files[:5]"
   ]
  },
  {
   "cell_type": "code",
   "execution_count": 7,
   "id": "victorian-benchmark",
   "metadata": {
    "ExecuteTime": {
     "end_time": "2023-01-25T18:35:20.328846Z",
     "start_time": "2023-01-25T18:35:17.704984Z"
    },
    "scrolled": false
   },
   "outputs": [
    {
     "name": "stdout",
     "output_type": "stream",
     "text": [
      ".........."
     ]
    }
   ],
   "source": [
    "dir_prefix = 'Copernicus_DSM_COG_30_'\n",
    "dir_suffix = '_DEM'\n",
    "bucket = 'copernicus-dem-90m'\n",
    "\n",
    "file_record = pd.read_csv('copernicus_files.csv', names=['file','status','lat','lon','min','max','mean','std'])\n",
    "files_processed = set(file_record.file)\n",
    "\n",
    "for f in files.sample(frac=1):\n",
    "    path = dir_prefix + f + dir_suffix + '/'\n",
    "    file = 'Copernicus_DSM_30_' + f + '.xml' \n",
    "\n",
    "    output = 'global_elevation_data/' +file\n",
    "\n",
    "    if output not in files_processed:\n",
    "        if not os.path.exists(output):\n",
    "            try: \n",
    "                s3.download_file(bucket, path+file, output)\n",
    "            except ClientError:\n",
    "                print(\".\", end=\"\")\n",
    "                with open('copernicus_files.csv', 'a+') as copernicus_record:\n",
    "                    copernicus_record.write(output + \",0,,,,,,\"+\"\\n\")\n",
    "        else:\n",
    "            with open(output,'r') as open_file:\n",
    "                soup = BeautifulSoup(open_file, 'xml')\n",
    "                row = [output,'1',\n",
    "                       soup.find_all('tsxx:upperLeftLatitude')[0].text,\n",
    "                       soup.find_all('tsxx:upperLeftLongitude')[0].text,\n",
    "                       soup.find_all('tsxx:minValue')[0].text,\n",
    "                       soup.find_all('tsxx:maxValue')[0].text,\n",
    "                       soup.find_all('tsxx:meanValue')[0].text,\n",
    "                       soup.find_all('tsxx:stdDev')[0].text\n",
    "                      ]\n",
    "                with open('copernicus_files.csv', 'a+') as copernicus_record:\n",
    "                    copernicus_record.write(\",\".join(row) + \"\\n\")\n",
    "                    print(\"!\", end=\"\")"
   ]
  },
  {
   "cell_type": "code",
   "execution_count": null,
   "id": "graphic-press",
   "metadata": {},
   "outputs": [],
   "source": []
  }
 ],
 "metadata": {
  "hide_input": false,
  "kernelspec": {
   "display_name": "Python 3",
   "language": "python",
   "name": "python3"
  },
  "language_info": {
   "codemirror_mode": {
    "name": "ipython",
    "version": 3
   },
   "file_extension": ".py",
   "mimetype": "text/x-python",
   "name": "python",
   "nbconvert_exporter": "python",
   "pygments_lexer": "ipython3",
   "version": "3.9.6"
  },
  "varInspector": {
   "cols": {
    "lenName": 16,
    "lenType": 16,
    "lenVar": 40
   },
   "kernels_config": {
    "python": {
     "delete_cmd_postfix": "",
     "delete_cmd_prefix": "del ",
     "library": "var_list.py",
     "varRefreshCmd": "print(var_dic_list())"
    },
    "r": {
     "delete_cmd_postfix": ") ",
     "delete_cmd_prefix": "rm(",
     "library": "var_list.r",
     "varRefreshCmd": "cat(var_dic_list()) "
    }
   },
   "types_to_exclude": [
    "module",
    "function",
    "builtin_function_or_method",
    "instance",
    "_Feature"
   ],
   "window_display": false
  }
 },
 "nbformat": 4,
 "nbformat_minor": 5
}
